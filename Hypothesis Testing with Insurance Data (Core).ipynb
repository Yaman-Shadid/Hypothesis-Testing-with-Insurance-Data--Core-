{
 "cells": [
  {
   "cell_type": "markdown",
   "metadata": {},
   "source": [
    "# Assignment (Before Resubmit)"
   ]
  },
  {
   "cell_type": "code",
   "execution_count": 1,
   "metadata": {},
   "outputs": [],
   "source": [
    "import pandas as pd\n",
    "import seaborn as sns\n",
    "import matplotlib.pyplot as plt\n",
    "from scipy import stats"
   ]
  },
  {
   "cell_type": "code",
   "execution_count": 2,
   "metadata": {},
   "outputs": [
    {
     "data": {
      "text/html": [
       "<div>\n",
       "<style scoped>\n",
       "    .dataframe tbody tr th:only-of-type {\n",
       "        vertical-align: middle;\n",
       "    }\n",
       "\n",
       "    .dataframe tbody tr th {\n",
       "        vertical-align: top;\n",
       "    }\n",
       "\n",
       "    .dataframe thead th {\n",
       "        text-align: right;\n",
       "    }\n",
       "</style>\n",
       "<table border=\"1\" class=\"dataframe\">\n",
       "  <thead>\n",
       "    <tr style=\"text-align: right;\">\n",
       "      <th></th>\n",
       "      <th>age</th>\n",
       "      <th>sex</th>\n",
       "      <th>bmi</th>\n",
       "      <th>children</th>\n",
       "      <th>smoker</th>\n",
       "      <th>region</th>\n",
       "      <th>charges</th>\n",
       "    </tr>\n",
       "  </thead>\n",
       "  <tbody>\n",
       "    <tr>\n",
       "      <th>0</th>\n",
       "      <td>19</td>\n",
       "      <td>female</td>\n",
       "      <td>27.900</td>\n",
       "      <td>0</td>\n",
       "      <td>yes</td>\n",
       "      <td>southwest</td>\n",
       "      <td>16884.92400</td>\n",
       "    </tr>\n",
       "    <tr>\n",
       "      <th>1</th>\n",
       "      <td>18</td>\n",
       "      <td>male</td>\n",
       "      <td>33.770</td>\n",
       "      <td>1</td>\n",
       "      <td>no</td>\n",
       "      <td>southeast</td>\n",
       "      <td>1725.55230</td>\n",
       "    </tr>\n",
       "    <tr>\n",
       "      <th>2</th>\n",
       "      <td>28</td>\n",
       "      <td>male</td>\n",
       "      <td>33.000</td>\n",
       "      <td>3</td>\n",
       "      <td>no</td>\n",
       "      <td>southeast</td>\n",
       "      <td>4449.46200</td>\n",
       "    </tr>\n",
       "    <tr>\n",
       "      <th>3</th>\n",
       "      <td>33</td>\n",
       "      <td>male</td>\n",
       "      <td>22.705</td>\n",
       "      <td>0</td>\n",
       "      <td>no</td>\n",
       "      <td>northwest</td>\n",
       "      <td>21984.47061</td>\n",
       "    </tr>\n",
       "    <tr>\n",
       "      <th>4</th>\n",
       "      <td>32</td>\n",
       "      <td>male</td>\n",
       "      <td>28.880</td>\n",
       "      <td>0</td>\n",
       "      <td>no</td>\n",
       "      <td>northwest</td>\n",
       "      <td>3866.85520</td>\n",
       "    </tr>\n",
       "  </tbody>\n",
       "</table>\n",
       "</div>"
      ],
      "text/plain": [
       "   age     sex     bmi  children smoker     region      charges\n",
       "0   19  female  27.900         0    yes  southwest  16884.92400\n",
       "1   18    male  33.770         1     no  southeast   1725.55230\n",
       "2   28    male  33.000         3     no  southeast   4449.46200\n",
       "3   33    male  22.705         0     no  northwest  21984.47061\n",
       "4   32    male  28.880         0     no  northwest   3866.85520"
      ]
     },
     "execution_count": 2,
     "metadata": {},
     "output_type": "execute_result"
    }
   ],
   "source": [
    "# File path\n",
    "file_path = r\"G:\\Github Desktop Reps\\Coding Dojo\\Hypothesis-Testing-with-Insurance-Data--Core-\\Data\\insurance - insurance.csv\"\n",
    "\n",
    "# Read the CSV file into a dataframe named 'df'\n",
    "df = pd.read_csv(file_path)\n",
    "\n",
    "# Display the first few rows of the dataframe to check\n",
    "df.head()"
   ]
  },
  {
   "cell_type": "markdown",
   "metadata": {},
   "source": [
    "## Tests"
   ]
  },
  {
   "cell_type": "markdown",
   "metadata": {},
   "source": [
    "## Q1. Do smokers have higher insurance charges than non-smokers?\n",
    "\n",
    "1. Hypotheses:\n",
    "- Null Hypothesis (H0): Smokers and non-smokers have the same average insurance charges.\n",
    "- Alternative Hypothesis (H1): Smokers have different (in this case, higher) average insurance charges than non-smokers.\n",
    "2. Test Selection:\n",
    "We will use an independent t-test since we are comparing the means of two independent samples (smokers and non-smokers).\n",
    "\n",
    "3. Test Assumptions:\n",
    "- Independence of observations\n",
    "- Normally distributed populations\n",
    "- Equal variance (homogeneity of variances)"
   ]
  },
  {
   "cell_type": "code",
   "execution_count": 3,
   "metadata": {},
   "outputs": [
    {
     "data": {
      "image/png": "[encoded data removed]",
      "text/plain": [
       "<Figure size 640x480 with 1 Axes>"
      ]
     },
     "metadata": {},
     "output_type": "display_data"
    }
   ],
   "source": [
    "# Q1 Plot\n",
    "sns.boxplot(x='smoker', y='charges', data=df)\n",
    "plt.title('Insurance Charges by Smoking Status')\n",
    "plt.show()"
   ]
  },
  {
   "cell_type": "code",
   "execution_count": 4,
   "metadata": {},
   "outputs": [
    {
     "name": "stdout",
     "output_type": "stream",
     "text": [
      "LeveneResult(statistic=332.6135162726081, pvalue=1.5593284881803726e-66)\n"
     ]
    }
   ],
   "source": [
    "# Checking for equal variance\n",
    "print(stats.levene(df[df['smoker'] == 'yes']['charges'], df[df['smoker'] == 'no']['charges']))"
   ]
  },
  {
   "cell_type": "code",
   "execution_count": 5,
   "metadata": {},
   "outputs": [
    {
     "name": "stdout",
     "output_type": "stream",
     "text": [
      "T-statistic: 46.66492117272371, P-value: 8.271435842179102e-283\n"
     ]
    }
   ],
   "source": [
    "# Independent t-test\n",
    "t_stat, p_val = stats.ttest_ind(df[df['smoker'] == 'yes']['charges'], df[df['smoker'] == 'no']['charges'], equal_var=True)\n",
    "print(f\"T-statistic: {t_stat}, P-value: {p_val}\")"
   ]
  },
  {
   "cell_type": "markdown",
   "metadata": {},
   "source": [
    "### p value is less than .05 so we reject the null hypothesis."
   ]
  },
  {
   "cell_type": "markdown",
   "metadata": {},
   "source": [
    "## Q2. Are men more likely to smoke than women?\n",
    "1. Hypotheses:\n",
    "- Null Hypothesis (H0): The proportion of men who smoke is the same as the proportion of women who smoke.\n",
    "- Alternative Hypothesis (H1): The proportion of men who smoke is different than the proportion of women who smoke.\n",
    "2. Test Selection:\n",
    "Chi-squared test for independence, since we're dealing with categorical data.\n",
    "\n",
    "3. Test Assumptions:\n",
    "- Observations used should be independent.\n",
    "- Expected frequency count for each cell of the table should be at least 5."
   ]
  },
  {
   "cell_type": "code",
   "execution_count": 6,
   "metadata": {},
   "outputs": [
    {
     "data": {
      "image/png": "[encoded data removed]",
      "text/plain": [
       "<Figure size 640x480 with 1 Axes>"
      ]
     },
     "metadata": {},
     "output_type": "display_data"
    }
   ],
   "source": [
    "# Q2 Plot\n",
    "sns.countplot(x='sex', hue='smoker', data=df)\n",
    "plt.title('Count of Smokers by Gender')\n",
    "plt.show()"
   ]
  },
  {
   "cell_type": "code",
   "execution_count": 7,
   "metadata": {},
   "outputs": [
    {
     "name": "stdout",
     "output_type": "stream",
     "text": [
      "smoker   no  yes\n",
      "sex             \n",
      "female  547  115\n",
      "male    517  159\n",
      "[[526.43348281 135.56651719]\n",
      " [537.56651719 138.43348281]]\n"
     ]
    }
   ],
   "source": [
    "# Crosstab for observed counts\n",
    "observed = pd.crosstab(df['sex'], df['smoker'])\n",
    "print(observed)\n",
    "\n",
    "# Expected counts\n",
    "expected = stats.chi2_contingency(observed)[3]\n",
    "print(expected)"
   ]
  },
  {
   "cell_type": "code",
   "execution_count": 8,
   "metadata": {},
   "outputs": [
    {
     "name": "stdout",
     "output_type": "stream",
     "text": [
      "Chi2 Statistic: 7.39291081459996, P-value: 0.006548143503580696\n"
     ]
    }
   ],
   "source": [
    "chi2_stat, p_val, _, _ = stats.chi2_contingency(observed)\n",
    "print(f\"Chi2 Statistic: {chi2_stat}, P-value: {p_val}\")"
   ]
  },
  {
   "cell_type": "markdown",
   "metadata": {},
   "source": [
    "### Yes, men are more likely."
   ]
  },
  {
   "cell_type": "markdown",
   "metadata": {},
   "source": [
    "## Q3. Do different regions have different charges, on average?\n",
    "1. Hypotheses:\n",
    "- Null Hypothesis (H0): All regions have the same average insurance charges.\n",
    "- Alternative Hypothesis (H1): At least one region has different average insurance charges.\n",
    "2. Test Selection:\n",
    "We'll use ANOVA since we're comparing means across multiple groups.\n",
    "\n",
    "3. Test Assumptions:\n",
    "- Independence of the observations\n",
    "- Normally distributed residuals\n",
    "- Homogeneity of variances"
   ]
  },
  {
   "cell_type": "code",
   "execution_count": 9,
   "metadata": {},
   "outputs": [
    {
     "data": {
      "image/png": "[encoded data removed]",
      "text/plain": [
       "<Figure size 640x480 with 1 Axes>"
      ]
     },
     "metadata": {},
     "output_type": "display_data"
    },
    {
     "name": "stdout",
     "output_type": "stream",
     "text": [
      "LeveneResult(statistic=5.559966758410606, pvalue=0.0008610590250786703)\n"
     ]
    }
   ],
   "source": [
    "sns.boxplot(data=df, x='region', y='charges')\n",
    "plt.title('Distribution of Charges by Region')\n",
    "plt.show()\n",
    "\n",
    "# Checking for homogeneity of variances\n",
    "regions = [df['charges'][df['region'] == region] for region in df['region'].unique()]\n",
    "print(stats.levene(*regions))"
   ]
  },
  {
   "cell_type": "code",
   "execution_count": 10,
   "metadata": {},
   "outputs": [
    {
     "name": "stdout",
     "output_type": "stream",
     "text": [
      "F-statistic: 2.96962669358912, P-value: 0.0308933560705201\n"
     ]
    }
   ],
   "source": [
    "f_stat, p_val = stats.f_oneway(*regions)\n",
    "print(f\"F-statistic: {f_stat}, P-value: {p_val}\")"
   ]
  },
  {
   "cell_type": "markdown",
   "metadata": {},
   "source": [
    "### With a p-value of 0.03, we have sufficient evidence to reject the null hypothesis and conclude that the region does have an effect on the amount charged."
   ]
  },
  {
   "cell_type": "markdown",
   "metadata": {},
   "source": [
    "# Resubmit section"
   ]
  },
  {
   "cell_type": "code",
   "execution_count": 11,
   "metadata": {},
   "outputs": [
    {
     "name": "stdout",
     "output_type": "stream",
     "text": [
      "P-value for smokers' charges normality: 3.6255991542333277e-09\n",
      "P-value for non-smokers' charges normality: 1.4456512848762904e-28\n"
     ]
    }
   ],
   "source": [
    "# Checking for normal distribution of data for smokers\n",
    "_, p_val_smokers = stats.shapiro(df[df['smoker'] == 'yes']['charges'])\n",
    "print(f\"P-value for smokers' charges normality: {p_val_smokers}\")\n",
    "\n",
    "# Checking for normal distribution of data for non-smokers\n",
    "_, p_val_non_smokers = stats.shapiro(df[df['smoker'] == 'no']['charges'])\n",
    "print(f\"P-value for non-smokers' charges normality: {p_val_non_smokers}\")\n",
    "\n",
    "# If p-value < 0.05, the distribution is not normal"
   ]
  },
  {
   "cell_type": "code",
   "execution_count": 12,
   "metadata": {},
   "outputs": [
    {
     "name": "stdout",
     "output_type": "stream",
     "text": [
      "P-value for southwest charges normality: 2.023667803366432e-20\n",
      "P-value for southeast charges normality: 1.23268419436607e-19\n",
      "P-value for northwest charges normality: 4.268387928586811e-19\n",
      "P-value for northeast charges normality: 6.552730011610829e-18\n"
     ]
    }
   ],
   "source": [
    "# Checking for normality\n",
    "for region in df['region'].unique():\n",
    "    _, p_val = stats.shapiro(df['charges'][df['region'] == region])\n",
    "    print(f\"P-value for {region} charges normality: {p_val}\")\n",
    "\n",
    "# If any p-value < 0.05, the distribution for that region is not normal"
   ]
  },
  {
   "cell_type": "code",
   "execution_count": 13,
   "metadata": {},
   "outputs": [
    {
     "name": "stdout",
     "output_type": "stream",
     "text": [
      "H-statistic: 4.734181215658743, P-value: 0.19232908072121002\n"
     ]
    }
   ],
   "source": [
    "h_stat, p_val = stats.kruskal(*regions)\n",
    "print(f\"H-statistic: {h_stat}, P-value: {p_val}\")\n",
    "\n",
    "# With a p-value < 0.05, I will reject the null hypothesis."
   ]
  },
  {
   "cell_type": "code",
   "execution_count": 14,
   "metadata": {},
   "outputs": [
    {
     "name": "stdout",
     "output_type": "stream",
     "text": [
      "P-value for smokers' charges normality: 3.6255991542333277e-09\n"
     ]
    }
   ],
   "source": [
    "# Checking for normal distribution of data for smokers\n",
    "_, p_val_smokers = stats.shapiro(df[df['smoker'] == 'yes']['charges'])\n",
    "print(f\"P-value for smokers' charges normality: {p_val_smokers}\")"
   ]
  },
  {
   "cell_type": "code",
   "execution_count": 15,
   "metadata": {},
   "outputs": [
    {
     "name": "stdout",
     "output_type": "stream",
     "text": [
      "P-value for non-smokers' charges normality: 1.4456512848762904e-28\n"
     ]
    }
   ],
   "source": [
    "# Checking for normal distribution of data for non-smokers\n",
    "_, p_val_non_smokers = stats.shapiro(df[df['smoker'] == 'no']['charges'])\n",
    "print(f\"P-value for non-smokers' charges normality: {p_val_non_smokers}\")"
   ]
  },
  {
   "cell_type": "code",
   "execution_count": 16,
   "metadata": {},
   "outputs": [
    {
     "name": "stdout",
     "output_type": "stream",
     "text": [
      "P-value for southwest charges normality: 2.023667803366432e-20\n",
      "P-value for southeast charges normality: 1.23268419436607e-19\n",
      "P-value for northwest charges normality: 4.268387928586811e-19\n",
      "P-value for northeast charges normality: 6.552730011610829e-18\n"
     ]
    }
   ],
   "source": [
    "# Checking for normality\n",
    "for region in df['region'].unique():\n",
    "    _, p_val = stats.shapiro(df['charges'][df['region'] == region])\n",
    "    print(f\"P-value for {region} charges normality: {p_val}\")"
   ]
  },
  {
   "cell_type": "code",
   "execution_count": 17,
   "metadata": {},
   "outputs": [
    {
     "name": "stdout",
     "output_type": "stream",
     "text": [
      "Levene's test - Statistic: 5.559966758410606, P-value: 0.0008610590250786703\n"
     ]
    }
   ],
   "source": [
    "# Checking for homogeneity of variances\n",
    "levene_stat, levene_p = stats.levene(*regions)\n",
    "print(f\"Levene's test - Statistic: {levene_stat}, P-value: {levene_p}\")"
   ]
  },
  {
   "cell_type": "code",
   "execution_count": 20,
   "metadata": {},
   "outputs": [
    {
     "name": "stdout",
     "output_type": "stream",
     "text": [
      "Kruskal-Wallis H-statistic: 4.734181215658743, P-value: 0.19232908072121002\n"
     ]
    }
   ],
   "source": [
    "if levene_p < 0.05: # If Levene test is significant, use Kruskal-Wallis\n",
    "    h_stat, p_val = stats.kruskal(*regions)\n",
    "    print(f\"Kruskal-Wallis H-statistic: {h_stat}, P-value: {p_val}\")\n",
    "else:\n",
    "    f_stat, p_val = stats.f_oneway(*regions)\n",
    "    print(f\"F-statistic: {f_stat}, P-value: {p_val}\")"
   ]
  },
  {
   "cell_type": "code",
   "execution_count": null,
   "metadata": {},
   "outputs": [],
   "source": []
  }
 ],
 "metadata": {
  "kernelspec": {
   "display_name": "Python (dojo-env)",
   "language": "python",
   "name": "dojo-env"
  },
  "language_info": {
   "codemirror_mode": {
    "name": "ipython",
    "version": 3
   },
   "file_extension": ".py",
   "mimetype": "text/x-python",
   "name": "python",
   "nbconvert_exporter": "python",
   "pygments_lexer": "ipython3",
   "version": "3.9.15"
  },
  "orig_nbformat": 4
 },
 "nbformat": 4,
 "nbformat_minor": 2
}
